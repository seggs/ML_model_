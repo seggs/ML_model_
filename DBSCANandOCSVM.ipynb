{
 "cells": [
  {
   "cell_type": "code",
   "execution_count": 2,
   "metadata": {
    "collapsed": false
   },
   "outputs": [],
   "source": [
    "import matplotlib.pyplot as plt\n",
    "import csv\n",
    "from datetime import datetime\n",
    "from dateutil.parser import parse\n",
    "import pandas as pd\n",
    "\n",
    "import matplotlib\n",
    "import csv\n",
    "import numpy as np\n",
    "from sklearn.linear_model import LinearRegression\n",
    "from sklearn.datasets import load_boston\n",
    "from sklearn.datasets import load_iris\n",
    "\n",
    "from __future__ import absolute_import\n",
    "from __future__ import division\n",
    "from __future__ import print_function\n",
    "from sklearn import cross_validation\n",
    "from sklearn import metrics\n",
    "from sklearn import preprocessing\n",
    "from sklearn import svm\n",
    "from datetime import timedelta\n",
    "import pandas as pd\n",
    "import seaborn as sb\n",
    "from sklearn.cluster import DBSCAN \n",
    "from collections import Counter\n",
    "\n",
    "%matplotlib inline"
   ]
  },
  {
   "cell_type": "code",
   "execution_count": 4,
   "metadata": {
    "collapsed": false
   },
   "outputs": [
    {
     "data": {
      "text/html": [
       "<div>\n",
       "<style>\n",
       "    .dataframe thead tr:only-child th {\n",
       "        text-align: right;\n",
       "    }\n",
       "\n",
       "    .dataframe thead th {\n",
       "        text-align: left;\n",
       "    }\n",
       "\n",
       "    .dataframe tbody tr th {\n",
       "        vertical-align: top;\n",
       "    }\n",
       "</style>\n",
       "<table border=\"1\" class=\"dataframe\">\n",
       "  <thead>\n",
       "    <tr style=\"text-align: right;\">\n",
       "      <th></th>\n",
       "      <th>States</th>\n",
       "    </tr>\n",
       "    <tr>\n",
       "      <th>Timestamp</th>\n",
       "      <th></th>\n",
       "    </tr>\n",
       "  </thead>\n",
       "  <tbody>\n",
       "    <tr>\n",
       "      <th>2018-07-03 10:09:54</th>\n",
       "      <td>6312</td>\n",
       "    </tr>\n",
       "    <tr>\n",
       "      <th>2018-07-03 10:10:37</th>\n",
       "      <td>2977</td>\n",
       "    </tr>\n",
       "    <tr>\n",
       "      <th>2018-07-03 10:11:13</th>\n",
       "      <td>2987</td>\n",
       "    </tr>\n",
       "    <tr>\n",
       "      <th>2018-07-03 10:11:37</th>\n",
       "      <td>2991</td>\n",
       "    </tr>\n",
       "    <tr>\n",
       "      <th>2018-07-03 10:12:05</th>\n",
       "      <td>2974</td>\n",
       "    </tr>\n",
       "  </tbody>\n",
       "</table>\n",
       "</div>"
      ],
      "text/plain": [
       "                     States\n",
       "Timestamp                  \n",
       "2018-07-03 10:09:54    6312\n",
       "2018-07-03 10:10:37    2977\n",
       "2018-07-03 10:11:13    2987\n",
       "2018-07-03 10:11:37    2991\n",
       "2018-07-03 10:12:05    2974"
      ]
     },
     "execution_count": 4,
     "metadata": {},
     "output_type": "execute_result"
    }
   ],
   "source": [
    "'''Read CSV file and set index to timestamp'''\n",
    "df = pd.read_csv('karl7.csv',low_memory=False, parse_dates= ['Timestamp'])\n",
    "df = df.set_index('Timestamp')\n",
    "df.head()\n",
    "\n"
   ]
  },
  {
   "cell_type": "code",
   "execution_count": 6,
   "metadata": {
    "collapsed": false
   },
   "outputs": [],
   "source": [
    "'''Replace all missing values with zero'''\n",
    "#df1 = pd.DataFrame()\n",
    "#df1 = df.replace('unknown', 2300)\n",
    "\n",
    "'''Normalization of state data to have a mean of 0 and and SD of 1'''\n",
    "#df['ScaledStates'] = df['States'] / df['States'].max()\n",
    "#df.head()\n",
    "df['ScaledStates'] = (df['States'] - df['States'].mean()) / df['States'].std()\n",
    "#\n",
    "\n",
    "#df.loc[df['States'] == 'unknown']\n",
    "\n",
    "\n",
    "\n"
   ]
  },
  {
   "cell_type": "code",
   "execution_count": 8,
   "metadata": {
    "collapsed": false
   },
   "outputs": [
    {
     "data": {
      "image/png": "[encoded data removed]",
      "text/plain": [
       "<matplotlib.figure.Figure at 0x7fb739113d90>"
      ]
     },
     "metadata": {},
     "output_type": "display_data"
    }
   ],
   "source": [
    "from pandas.plotting import scatter_matrix\n",
    "\n",
    "fig = plt.figure()\n",
    "ax = fig.add_subplot(111)\n",
    "ax.scatter(df.index.time, df.ScaledStates, c='b', s= 30)\n",
    "#plt.plot(df.index.hour, df.ScaledStates)\n",
    "#plt.legend(loc='upper left')\n",
    "plt.ylabel('Metrics')\n",
    "plt.xlabel('Time')\n",
    "plt.title('Stardardize PIR motion sensor data')\n",
    "plt.show()"
   ]
  },
  {
   "cell_type": "code",
   "execution_count": 9,
   "metadata": {
    "collapsed": false
   },
   "outputs": [
    {
     "data": {
      "text/html": [
       "<div>\n",
       "<style>\n",
       "    .dataframe thead tr:only-child th {\n",
       "        text-align: right;\n",
       "    }\n",
       "\n",
       "    .dataframe thead th {\n",
       "        text-align: left;\n",
       "    }\n",
       "\n",
       "    .dataframe tbody tr th {\n",
       "        vertical-align: top;\n",
       "    }\n",
       "</style>\n",
       "<table border=\"1\" class=\"dataframe\">\n",
       "  <thead>\n",
       "    <tr style=\"text-align: right;\">\n",
       "      <th></th>\n",
       "      <th>ScaledStatesCount</th>\n",
       "      <th>ScaledStatesSum</th>\n",
       "      <th>ScaledStatesMean</th>\n",
       "      <th>ScaledStatesMin</th>\n",
       "      <th>ScaledStatesMax</th>\n",
       "      <th>Hour</th>\n",
       "      <th>Min</th>\n",
       "      <th>Sec</th>\n",
       "    </tr>\n",
       "    <tr>\n",
       "      <th>Timestamp</th>\n",
       "      <th></th>\n",
       "      <th></th>\n",
       "      <th></th>\n",
       "      <th></th>\n",
       "      <th></th>\n",
       "      <th></th>\n",
       "      <th></th>\n",
       "      <th></th>\n",
       "    </tr>\n",
       "  </thead>\n",
       "  <tbody>\n",
       "    <tr>\n",
       "      <th>2018-07-03 10:09:00</th>\n",
       "      <td>1</td>\n",
       "      <td>5.578842</td>\n",
       "      <td>5.578842</td>\n",
       "      <td>5.578842</td>\n",
       "      <td>5.578842</td>\n",
       "      <td>10</td>\n",
       "      <td>9</td>\n",
       "      <td>0</td>\n",
       "    </tr>\n",
       "    <tr>\n",
       "      <th>2018-07-03 10:10:00</th>\n",
       "      <td>1</td>\n",
       "      <td>-0.164043</td>\n",
       "      <td>-0.164043</td>\n",
       "      <td>-0.164043</td>\n",
       "      <td>-0.164043</td>\n",
       "      <td>10</td>\n",
       "      <td>10</td>\n",
       "      <td>0</td>\n",
       "    </tr>\n",
       "    <tr>\n",
       "      <th>2018-07-03 10:11:00</th>\n",
       "      <td>2</td>\n",
       "      <td>-0.286757</td>\n",
       "      <td>-0.143378</td>\n",
       "      <td>-0.146822</td>\n",
       "      <td>-0.139934</td>\n",
       "      <td>10</td>\n",
       "      <td>11</td>\n",
       "      <td>0</td>\n",
       "    </tr>\n",
       "    <tr>\n",
       "      <th>2018-07-03 10:12:00</th>\n",
       "      <td>2</td>\n",
       "      <td>-0.316031</td>\n",
       "      <td>-0.158016</td>\n",
       "      <td>-0.169209</td>\n",
       "      <td>-0.146822</td>\n",
       "      <td>10</td>\n",
       "      <td>12</td>\n",
       "      <td>0</td>\n",
       "    </tr>\n",
       "    <tr>\n",
       "      <th>2018-07-03 10:13:00</th>\n",
       "      <td>0</td>\n",
       "      <td>0.000000</td>\n",
       "      <td>0.000000</td>\n",
       "      <td>0.000000</td>\n",
       "      <td>0.000000</td>\n",
       "      <td>10</td>\n",
       "      <td>13</td>\n",
       "      <td>0</td>\n",
       "    </tr>\n",
       "  </tbody>\n",
       "</table>\n",
       "</div>"
      ],
      "text/plain": [
       "                     ScaledStatesCount  ScaledStatesSum  ScaledStatesMean  \\\n",
       "Timestamp                                                                   \n",
       "2018-07-03 10:09:00                  1         5.578842          5.578842   \n",
       "2018-07-03 10:10:00                  1        -0.164043         -0.164043   \n",
       "2018-07-03 10:11:00                  2        -0.286757         -0.143378   \n",
       "2018-07-03 10:12:00                  2        -0.316031         -0.158016   \n",
       "2018-07-03 10:13:00                  0         0.000000          0.000000   \n",
       "\n",
       "                     ScaledStatesMin  ScaledStatesMax  Hour  Min  Sec  \n",
       "Timestamp                                                              \n",
       "2018-07-03 10:09:00         5.578842         5.578842    10    9    0  \n",
       "2018-07-03 10:10:00        -0.164043        -0.164043    10   10    0  \n",
       "2018-07-03 10:11:00        -0.146822        -0.139934    10   11    0  \n",
       "2018-07-03 10:12:00        -0.169209        -0.146822    10   12    0  \n",
       "2018-07-03 10:13:00         0.000000         0.000000    10   13    0  "
      ]
     },
     "execution_count": 9,
     "metadata": {},
     "output_type": "execute_result"
    }
   ],
   "source": [
    "\n",
    "\n",
    "'''Feature Extraction: Compute the mean, sum, and count for every 1 min'''\n",
    "five_minutely_data = pd.DataFrame()\n",
    "#five_minutely_data['ScaledStatesSum'] = df.ScaledStates.resample('60s', how='sum')\n",
    "#five_minutely_data['ScaledStatesMean'] = df.ScaledStates.resample('60s', how='mean')\n",
    "#five_minutely_data['ScaledStatesCount'] = df.ScaledStates.resample('60s', how='count')\n",
    "#five_minutely_data['StatesCount'] = df.ScaledStates.resample('60s')\n",
    "five_minutely_data['ScaledStatesCount'] = df['ScaledStates'].resample('60s').count()\n",
    "five_minutely_data['ScaledStatesSum'] = df.ScaledStates.resample('60s').sum()\n",
    "five_minutely_data['ScaledStatesMean'] = df.ScaledStates.resample('60s').mean()\n",
    "five_minutely_data['ScaledStatesMin'] = df.ScaledStates.resample('60s').min()\n",
    "five_minutely_data['ScaledStatesMax'] = df.ScaledStates.resample('60s').max()\n",
    "\n",
    "'''Replace all missing values with zero'''\n",
    "five_minutely_data1 = pd.DataFrame()\n",
    "five_minutely_data1 = five_minutely_data.replace(np.nan, 0)\n",
    "\n",
    "five_minutely_data1['Hour'] = five_minutely_data1.index.hour\n",
    "five_minutely_data1['Min'] = five_minutely_data1.index.minute\n",
    "five_minutely_data1['Sec'] = five_minutely_data1.index.second\n",
    "#five_minutely_data1['Date'] = five_minutely_data1.index.date\n",
    "\n",
    "five_minutely_data1.head()"
   ]
  },
  {
   "cell_type": "code",
   "execution_count": 16,
   "metadata": {
    "collapsed": false
   },
   "outputs": [
    {
     "data": {
      "image/png": "[encoded data removed]",
      "text/plain": [
       "<matplotlib.figure.Figure at 0x7fb738c7dc10>"
      ]
     },
     "metadata": {},
     "output_type": "display_data"
    }
   ],
   "source": [
    "fig = plt.figure()\n",
    "ax = fig.add_subplot(111)\n",
    "ax.scatter(five_minutely_data1.index.hour, five_minutely_data1.ScaledStatesCount, c= five_minutely_data1.Min, s= 30,  marker = \"s\", label ='Test' )\n",
    "\n",
    "#plt.legend(loc='upper left')\n",
    "plt.ylabel('Mins')\n",
    "plt.xlabel('Hour')\n",
    "plt.title('PIR motion sensor data')\n",
    "plt.show()"
   ]
  },
  {
   "cell_type": "code",
   "execution_count": 21,
   "metadata": {
    "collapsed": false
   },
   "outputs": [],
   "source": [
    "'''Kmeans cluster techniques'''\n",
    "from sklearn.cluster import KMeans\n",
    "\n",
    "kmeans = KMeans(n_clusters=2, random_state=0).fit(five_minutely_data1)\n",
    "\n",
    "five_minutely_data1['labels'] = kmeans.labels_\n",
    "#five_minutely_data1.head()"
   ]
  },
  {
   "cell_type": "code",
   "execution_count": 22,
   "metadata": {
    "collapsed": false
   },
   "outputs": [
    {
     "data": {
      "image/png": "[encoded data removed]",
      "text/plain": [
       "<matplotlib.figure.Figure at 0x7f91bf0e4810>"
      ]
     },
     "metadata": {},
     "output_type": "display_data"
    }
   ],
   "source": [
    "c = kmeans.labels_\n",
    "fig = plt.figure()\n",
    "ax = fig.add_subplot(111)\n",
    "ax.scatter(five_minutely_data1.index.time, five_minutely_data1.ScaledStatesCount, c=c, s= 100 )\n",
    "\n",
    "#plt.legend(loc='upper left')\n",
    "plt.ylabel('State Count')\n",
    "plt.xlabel('Hourly')\n",
    "plt.title('Kmeans Clustering on PIR motion sensor data')\n",
    "plt.show()"
   ]
  },
  {
   "cell_type": "code",
   "execution_count": 14,
   "metadata": {
    "collapsed": false
   },
   "outputs": [
    {
     "name": "stdout",
     "output_type": "stream",
     "text": [
      "DBSCAN(algorithm='auto', eps=0.8, leaf_size=30, metric='euclidean',\n",
      "    min_samples=50, n_jobs=1, p=None)\n"
     ]
    }
   ],
   "source": [
    "'''DBSCAN cluster techniques'''\n",
    "\n",
    "model = DBSCAN(eps= 0.8, min_samples= 50).fit(five_minutely_data1)\n",
    "print(model)\n"
   ]
  },
  {
   "cell_type": "code",
   "execution_count": 15,
   "metadata": {
    "collapsed": false
   },
   "outputs": [],
   "source": [
    "five_minutely_data1['labels'] = model.labels_ \n",
    "#five_minutely_data1.head(600)"
   ]
  },
  {
   "cell_type": "code",
   "execution_count": 16,
   "metadata": {
    "collapsed": false
   },
   "outputs": [
    {
     "data": {
      "image/png": "[encoded data removed]",
      "text/plain": [
       "<matplotlib.figure.Figure at 0x7fbd8acdc110>"
      ]
     },
     "metadata": {},
     "output_type": "display_data"
    }
   ],
   "source": [
    "\n",
    "c = model.labels_\n",
    "fig = plt.figure()\n",
    "ax = fig.add_subplot(111)\n",
    "ax.scatter(five_minutely_data1.index.time, five_minutely_data1.ScaledStatesCount, c=c, s= 100 )\n",
    "\n",
    "#plt.legend(loc='upper left')\n",
    "plt.ylabel('State Count')\n",
    "plt.xlabel('Hourly')\n",
    "plt.title('DBSCAN Clustering on PIR motion sensor data')\n",
    "plt.show()"
   ]
  },
  {
   "cell_type": "code",
   "execution_count": 199,
   "metadata": {
    "collapsed": true
   },
   "outputs": [],
   "source": [
    "'''Read CSV file and set index to timestamp'''\n",
    "df1 = pd.read_csv('orders12t.csv',low_memory=False, parse_dates= ['Timestamp'])\n",
    "df1 = df1.set_index('Timestamp')\n",
    "\n",
    "'''Normalization of state data to have a mean of 0 and and SD of 1'''\n",
    "\n",
    "df1['ScaledStates'] = (df1['States'] - df1['States'].mean()) / df1['States'].std()\n",
    "\n",
    "'''Feature Extraction: Compute the mean, sum, and count for every 1 min'''\n",
    "five_minutely_data2 = pd.DataFrame()\n",
    "five_minutely_data2['ScaledStatesCount'] = df1['ScaledStates'].resample('60s').count()\n",
    "five_minutely_data2['ScaledStatesSum'] = df1.ScaledStates.resample('60s').sum()\n",
    "five_minutely_data2['ScaledStatesMean'] = df1.ScaledStates.resample('60s').mean()\n",
    "\n",
    "'''Replace all missing values with zero'''\n",
    "five_minutely_data3 = pd.DataFrame()\n",
    "five_minutely_data3 = five_minutely_data2.replace(np.nan, 0)\n",
    "five_minutely_data3['Hour'] = five_minutely_data1.index.hour\n",
    "five_minutely_data3['Min'] = five_minutely_data1.index.minute\n",
    "five_minutely_data3['Sec'] = five_minutely_data1.index.second\n",
    "\n",
    "\n",
    "\n"
   ]
  },
  {
   "cell_type": "code",
   "execution_count": 32,
   "metadata": {
    "collapsed": false
   },
   "outputs": [
    {
     "data": {
      "text/plain": [
       "(288, 9)"
      ]
     },
     "execution_count": 32,
     "metadata": {},
     "output_type": "execute_result"
    }
   ],
   "source": [
    "from sklearn.model_selection import train_test_split  \n",
    "train_data, test_data, train_target, test_target = train_test_split(five_minutely_data1, kmeans.labels_, train_size = 0.8)  \n",
    "test_data.shape  "
   ]
  },
  {
   "cell_type": "code",
   "execution_count": 60,
   "metadata": {
    "collapsed": false
   },
   "outputs": [
    {
     "data": {
      "text/plain": [
       "OneClassSVM(cache_size=200, coef0=0.0, degree=3, gamma='auto', kernel='rbf',\n",
       "      max_iter=-1, nu=0.07, random_state=None, shrinking=True, tol=0.001,\n",
       "      verbose=False)"
      ]
     },
     "execution_count": 60,
     "metadata": {},
     "output_type": "execute_result"
    }
   ],
   "source": [
    "model_ocsvm = svm.OneClassSVM(nu=0.07, kernel='rbf', gamma='auto') \n",
    "model_ocsvm.fit(train_data, train_target)"
   ]
  },
  {
   "cell_type": "code",
   "execution_count": 61,
   "metadata": {
    "collapsed": false
   },
   "outputs": [
    {
     "name": "stdout",
     "output_type": "stream",
     "text": [
      "accuracy:  0.391493055556\n",
      "precision:  0.51425313569\n",
      "recall:  0.776247848537\n",
      "f1:  0.61865569273\n",
      "area under curve (auc):  0.515094151939\n"
     ]
    }
   ],
   "source": [
    "\n",
    "from sklearn import metrics  \n",
    "y_pred_test = model_ocsvm.predict(train_data)\n",
    "targs = train_target\n",
    "preds = y_pred_test\n",
    "\n",
    "print(\"accuracy: \", metrics.accuracy_score(targs, preds))  \n",
    "print(\"precision: \", metrics.precision_score(targs, preds))  \n",
    "print(\"recall: \", metrics.recall_score(targs, preds))  \n",
    "print(\"f1: \", metrics.f1_score(targs, preds))  \n",
    "print(\"area under curve (auc): \", metrics.roc_auc_score(targs, preds))"
   ]
  },
  {
   "cell_type": "code",
   "execution_count": 37,
   "metadata": {
    "collapsed": false
   },
   "outputs": [
    {
     "name": "stdout",
     "output_type": "stream",
     "text": [
      "[[  0   0   0]\n",
      " [138   0 433]\n",
      " [151   0 430]]\n",
      "             precision    recall  f1-score   support\n",
      "\n",
      "       -1.0       0.00      0.00      0.00         0\n",
      "        0.0       0.00      0.00      0.00       571\n",
      "        1.0       0.50      0.74      0.60       581\n",
      "\n",
      "avg / total       0.25      0.37      0.30      1152\n",
      "\n"
     ]
    }
   ],
   "source": [
    "from sklearn.metrics import classification_report, confusion_matrix  \n",
    "print(confusion_matrix(targs, preds))  \n",
    "print(classification_report(targs, preds)) "
   ]
  },
  {
   "cell_type": "code",
   "execution_count": null,
   "metadata": {
    "collapsed": true
   },
   "outputs": [],
   "source": []
  }
 ],
 "metadata": {
  "kernelspec": {
   "display_name": "Python 2",
   "language": "python",
   "name": "python2"
  },
  "language_info": {
   "codemirror_mode": {
    "name": "ipython",
    "version": 2
   },
   "file_extension": ".py",
   "mimetype": "text/x-python",
   "name": "python",
   "nbconvert_exporter": "python",
   "pygments_lexer": "ipython2",
   "version": "2.7.13"
  }
 },
 "nbformat": 4,
 "nbformat_minor": 0
}
