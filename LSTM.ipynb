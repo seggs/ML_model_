{
 "cells": [
  {
   "cell_type": "code",
   "execution_count": 2,
   "metadata": {
    "collapsed": false
   },
   "outputs": [],
   "source": [
    "import sys, os, re, csv, codecs, numpy as np, pandas as pd\n",
    "import matplotlib.pyplot as plt\n",
    "from keras.preprocessing.text import Tokenizer\n",
    "from keras.preprocessing.sequence import pad_sequences\n",
    "from keras.layers import Dense, Input, LSTM, Embedding, Dropout, Activation\n",
    "#from keras.layers import Bidirectional, GlobalMaxPool1D\n",
    "from keras.models import Model\n",
    "#from keras import initializers, regularizers, constraints, optimizers, layers\n",
    "from pandas import Series\n",
    "from sklearn.preprocessing import MinMaxScaler\n",
    "%matplotlib inline\n",
    "from sklearn import preprocessing\n",
    "from keras.models import Sequential\n",
    "from keras.layers import LSTM\n",
    "from sklearn.metrics import mean_squared_error\n",
    "\n",
    "from keras.optimizers import Adam\n",
    "from pandas import read_csv\n",
    "from datetime import datetime\n",
    "from pandas import read_csv\n",
    "from matplotlib import pyplot"
   ]
  },
  {
   "cell_type": "code",
   "execution_count": 3,
   "metadata": {
    "collapsed": false
   },
   "outputs": [
    {
     "data": {
      "text/plain": [
       "(18761, 1)"
      ]
     },
     "execution_count": 3,
     "metadata": {},
     "output_type": "execute_result"
    }
   ],
   "source": [
    "\n",
    "# load data\n",
    "dataset = pd.read_csv('karl7.csv',low_memory=False, parse_dates= ['Timestamp'])\n",
    "dataset = dataset.set_index('Timestamp')\n",
    "dataset1 = pd.DataFrame()\n",
    "'''Resample data for every 1 minute'''\n",
    "dataset1['States'] = dataset['States'].resample('60s').count()\n",
    "# save to file\n",
    "\n",
    "dataset1.to_csv('data.csv')\n",
    "dataset1.shape"
   ]
  },
  {
   "cell_type": "code",
   "execution_count": 4,
   "metadata": {
    "collapsed": false
   },
   "outputs": [
    {
     "data": {
      "image/png": "[encoded data removed]",
      "text/plain": [
       "<matplotlib.figure.Figure at 0x7f62b866e090>"
      ]
     },
     "metadata": {},
     "output_type": "display_data"
    }
   ],
   "source": [
    "\n",
    "# load dataset\n",
    "dataset = read_csv('data.csv', header=0, index_col=0)\n",
    "values = dataset.values\n",
    "\n",
    "values = values.astype('float32')\n",
    "\n",
    "# normalize features\n",
    "scaler = MinMaxScaler(feature_range=(0, 1))\n",
    "scaled = scaler.fit_transform(values)\n",
    "\n",
    "# specify columns to plot\n",
    "\n",
    "groups = [0]\n",
    "i = 1\n",
    "# plot each column\n",
    "pyplot.figure()\n",
    "for group in groups:\n",
    "    pyplot.subplot(len(groups), 1, i)\n",
    "    pyplot.plot(scaled[:, group])\n",
    "    #pyplot.title(dataset.columns[group], y=0.5, loc='right')\n",
    "    pyplot.ylabel('Metrics')\n",
    "    plt.xlabel('Timestep')\n",
    "    i += 1\n",
    "pyplot.show()\n",
    "\n"
   ]
  },
  {
   "cell_type": "code",
   "execution_count": 6,
   "metadata": {
    "collapsed": true
   },
   "outputs": [],
   "source": [
    "# convert series to supervised learning\n",
    "def series_to_supervised(data, n_in=1, n_out=1, dropnan=True):\n",
    "\tn_vars = 1 if type(data) is list else data.shape[1]\n",
    "\tdf = pd.DataFrame(data)\n",
    "\tcols, names = list(), list()\n",
    "\t# input sequence (t-n, ... t-1)\n",
    "\tfor i in range(n_in, 0, -1):\n",
    "\t\tcols.append(df.shift(i))\n",
    "\t\tnames += [('var%d(t-%d)' % (j+1, i)) for j in range(n_vars)]\n",
    "\t# forecast sequence (t, t+1, ... t+n)\n",
    "\tfor i in range(0, n_out):\n",
    "\t\tcols.append(df.shift(-i))\n",
    "\t\tif i == 0:\n",
    "\t\t\tnames += [('var%d(t)' % (j+1)) for j in range(n_vars)]\n",
    "\t\telse:\n",
    "\t\t\tnames += [('var%d(t+%d)' % (j+1, i)) for j in range(n_vars)]\n",
    "\t# put it all together\n",
    "\tagg = pd.concat(cols, axis=1)\n",
    "\tagg.columns = names\n",
    "\t# drop rows with NaN values\n",
    "\tif dropnan:\n",
    "\t\tagg.dropna(inplace=True)\n",
    "\treturn agg\n",
    " "
   ]
  },
  {
   "cell_type": "code",
   "execution_count": 13,
   "metadata": {
    "collapsed": false
   },
   "outputs": [],
   "source": [
    "n_hours = 10\n",
    "n_features = 1\n",
    "# frame as supervised learning\n",
    "reframed = series_to_supervised(scaled, n_hours, 1)"
   ]
  },
  {
   "cell_type": "code",
   "execution_count": 16,
   "metadata": {
    "collapsed": false
   },
   "outputs": [
    {
     "name": "stdout",
     "output_type": "stream",
     "text": [
      "((15840, 10), 15840, (15840,), (2911, 10), (2911,))\n"
     ]
    }
   ],
   "source": [
    "# split into train and test set\n",
    "values = reframed.values\n",
    "n_train_hours = 11 * 24 * 60\n",
    "train = values[:n_train_hours, :]\n",
    "test = values[n_train_hours:, :]\n",
    "#split into input and outputs\n",
    "\n",
    "n_obs = n_hours * n_features\n",
    "train_X, train_y = train[:, :n_obs], train[:, -n_features]\n",
    "test_X, test_y = test[:, :n_obs], test[:, -n_features]\n",
    "print(train_X.shape, len(train_X), train_y.shape, test_X.shape, test_y.shape)"
   ]
  },
  {
   "cell_type": "code",
   "execution_count": 17,
   "metadata": {
    "collapsed": false
   },
   "outputs": [
    {
     "name": "stdout",
     "output_type": "stream",
     "text": [
      "((15840, 10, 1), (15840,), (2911, 10, 1), (2911,))\n"
     ]
    }
   ],
   "source": [
    "# reshape input to be 3D [samples, timesteps, features]\n",
    "train_X = train_X.reshape((train_X.shape[0], n_hours, n_features))\n",
    "test_X = test_X.reshape((test_X.shape[0], n_hours, n_features))\n",
    "print(train_X.shape, train_y.shape, test_X.shape, test_y.shape)"
   ]
  },
  {
   "cell_type": "code",
   "execution_count": 18,
   "metadata": {
    "collapsed": false
   },
   "outputs": [
    {
     "name": "stdout",
     "output_type": "stream",
     "text": [
      "((17280, 10), 17280, (17280,), (1471, 10), (1471,))\n",
      "((17280, 10, 1), (17280,), (1471, 10, 1), (1471,), (18751, 10, 1), (18751,))\n"
     ]
    }
   ],
   "source": [
    "dataset = pd.read_csv('k7test.csv',low_memory=False, parse_dates= ['Timestamp'])\n",
    "dataset = dataset.set_index('Timestamp')\n",
    "\n",
    "dataset1 = pd.DataFrame()\n",
    "'''Resample data for every 1 minute'''\n",
    "dataset1['States'] = dataset['States'].resample('60s').count()\n",
    "# save to file\n",
    "\n",
    "dataset1.to_csv('test.csv')\n",
    "# load dataset\n",
    "dataset = read_csv('test.csv', header=0, index_col=0)\n",
    "values = dataset.values\n",
    "\n",
    "values = values.astype('float32')\n",
    "# normalize features\n",
    "scaler = MinMaxScaler(feature_range=(0, 1))\n",
    "scaled_test = scaler.fit_transform(values)\n",
    "\n",
    "n_hours = 10\n",
    "n_features = 1\n",
    "# frame as supervised learning\n",
    "reframed_test = series_to_supervised(scaled_test, n_hours, 1)\n",
    "\n",
    "'''VA and T sets'''\n",
    "# split into train and test set\n",
    "values = reframed_test.values\n",
    "n_train_hours = 12 * 24 * 60\n",
    "test_set1 = values[:, :]\n",
    "test_set = values[:n_train_hours, :]\n",
    "Val_set = values[n_train_hours:, :]\n",
    "#split into input and outputs\n",
    "\n",
    "n_obs = n_hours * n_features\n",
    "test_set1_X, test_set1_y = test_set1[:, :n_obs], test_set1[:, -n_features]\n",
    "test_set_X, test_set_y = test_set[:, :n_obs], test_set[:, -n_features]\n",
    "Val_set_X, Val_y = Val_set[:, :n_obs], Val_set[:, -n_features]\n",
    "print(test_set_X.shape, len(test_set_X), test_set_y.shape, Val_set_X.shape, Val_y.shape)\n",
    "Val_set_X = Val_set_X.reshape((Val_set_X.shape[0], n_hours, n_features))\n",
    "test_set_X = test_set_X.reshape((test_set_X.shape[0], n_hours, n_features))\n",
    "test_set1_X = test_set1_X.reshape((test_set1_X.shape[0], n_hours, n_features))\n",
    "print(test_set_X.shape, test_set_y.shape, Val_set_X.shape, Val_y.shape, test_set1_X.shape, test_set1_y.shape)"
   ]
  },
  {
   "cell_type": "code",
   "execution_count": 19,
   "metadata": {
    "collapsed": false
   },
   "outputs": [],
   "source": [
    "'''Define the model'''\n",
    "\n",
    "model = Sequential()\n",
    "model.add(LSTM(10, return_sequences=True, input_shape=(train_X.shape[1], train_X.shape[2])))\n",
    "model.add(LSTM(5))\n",
    "model.add(Dense(1))\n",
    "\n",
    "'''compile the model'''\n",
    "model.compile(loss= 'mse', optimizer= 'adam', metrics=['mean_squared_error'])\n",
    "#model.summary()\n"
   ]
  },
  {
   "cell_type": "code",
   "execution_count": 20,
   "metadata": {
    "collapsed": false
   },
   "outputs": [
    {
     "name": "stdout",
     "output_type": "stream",
     "text": [
      "Train on 15840 samples, validate on 1471 samples\n",
      "Epoch 1/10\n",
      "15840/15840 [==============================] - 3s - loss: 0.0078 - mean_squared_error: 0.0078 - val_loss: 0.0077 - val_mean_squared_error: 0.0077\n",
      "Epoch 2/10\n",
      "15840/15840 [==============================] - 3s - loss: 0.0070 - mean_squared_error: 0.0070 - val_loss: 0.0072 - val_mean_squared_error: 0.0072\n",
      "Epoch 3/10\n",
      "15840/15840 [==============================] - 3s - loss: 0.0068 - mean_squared_error: 0.0068 - val_loss: 0.0069 - val_mean_squared_error: 0.0069\n",
      "Epoch 4/10\n",
      "15840/15840 [==============================] - 3s - loss: 0.0066 - mean_squared_error: 0.0066 - val_loss: 0.0067 - val_mean_squared_error: 0.0067\n",
      "Epoch 5/10\n",
      "15840/15840 [==============================] - 3s - loss: 0.0065 - mean_squared_error: 0.0065 - val_loss: 0.0065 - val_mean_squared_error: 0.0065\n",
      "Epoch 6/10\n",
      "15840/15840 [==============================] - 3s - loss: 0.0065 - mean_squared_error: 0.0065 - val_loss: 0.0064 - val_mean_squared_error: 0.0064\n",
      "Epoch 7/10\n",
      "15840/15840 [==============================] - 3s - loss: 0.0065 - mean_squared_error: 0.0065 - val_loss: 0.0063 - val_mean_squared_error: 0.0063\n",
      "Epoch 8/10\n",
      "15840/15840 [==============================] - 3s - loss: 0.0064 - mean_squared_error: 0.0064 - val_loss: 0.0063 - val_mean_squared_error: 0.0063\n",
      "Epoch 9/10\n",
      "15840/15840 [==============================] - 3s - loss: 0.0064 - mean_squared_error: 0.0064 - val_loss: 0.0062 - val_mean_squared_error: 0.0062\n",
      "Epoch 10/10\n",
      "15840/15840 [==============================] - 4s - loss: 0.0064 - mean_squared_error: 0.0064 - val_loss: 0.0062 - val_mean_squared_error: 0.0062\n"
     ]
    }
   ],
   "source": [
    "'''fit the model'''\n",
    "history = model.fit(train_X, train_y, validation_data=(Val_set_X, Val_y), nb_epoch=10, batch_size=32, verbose=1, shuffle=False)\n"
   ]
  },
  {
   "cell_type": "code",
   "execution_count": 21,
   "metadata": {
    "collapsed": false
   },
   "outputs": [
    {
     "data": {
      "text/plain": [
       "[<matplotlib.lines.Line2D at 0x7f62495a0ad0>]"
      ]
     },
     "execution_count": 21,
     "metadata": {},
     "output_type": "execute_result"
    },
    {
     "data": {
      "image/png": "[encoded data removed]",
      "text/plain": [
       "<matplotlib.figure.Figure at 0x7f62495ed090>"
      ]
     },
     "metadata": {},
     "output_type": "display_data"
    }
   ],
   "source": [
    "# plot history\n",
    "pyplot.plot(history.history['loss'], label='train')\n",
    "pyplot.plot(history.history['val_loss'], label='test')"
   ]
  },
  {
   "cell_type": "code",
   "execution_count": 22,
   "metadata": {
    "collapsed": false
   },
   "outputs": [
    {
     "name": "stdout",
     "output_type": "stream",
     "text": [
      "((15840, 1), (2911,), (2911, 10, 1))\n"
     ]
    }
   ],
   "source": [
    "# make a prediction\n",
    "yhat = model.predict(train_X)\n",
    "print(yhat.shape,test_y.shape, test_X.shape)"
   ]
  },
  {
   "cell_type": "code",
   "execution_count": 23,
   "metadata": {
    "collapsed": false
   },
   "outputs": [
    {
     "name": "stdout",
     "output_type": "stream",
     "text": [
      "(15840, 10)\n"
     ]
    }
   ],
   "source": [
    "test_X = train_X\n",
    "test_X = test_X.reshape((test_X.shape[0], n_hours*n_features))\n",
    "print(test_X.shape)"
   ]
  },
  {
   "cell_type": "code",
   "execution_count": 24,
   "metadata": {
    "collapsed": false
   },
   "outputs": [
    {
     "name": "stdout",
     "output_type": "stream",
     "text": [
      "(15840,)\n"
     ]
    }
   ],
   "source": [
    "# invert scaling for forecast\n",
    "inv_yhat = np.concatenate((yhat, test_X[:, -1:]), axis=1)\n",
    "inv_yhat = scaler.inverse_transform(inv_yhat)\n",
    "inv_yhat = inv_yhat[:,0]\n",
    "print(inv_yhat.shape)"
   ]
  },
  {
   "cell_type": "code",
   "execution_count": 25,
   "metadata": {
    "collapsed": false
   },
   "outputs": [
    {
     "name": "stdout",
     "output_type": "stream",
     "text": [
      "(15840,)\n"
     ]
    }
   ],
   "source": [
    "\n",
    "# invert scaling for actual\n",
    "\n",
    "test_y = train_y.reshape((len(train_y), 1))\n",
    "inv_y = np.concatenate((test_y, test_X[:, -1:]), axis=1)\n",
    "inv_y = scaler.inverse_transform(inv_y)\n",
    "inv_y = inv_y[:,0]\n",
    "print(inv_y.shape)"
   ]
  },
  {
   "cell_type": "code",
   "execution_count": 27,
   "metadata": {
    "collapsed": false
   },
   "outputs": [
    {
     "data": {
      "text/plain": [
       "[<matplotlib.lines.Line2D at 0x7f62488f5d10>]"
      ]
     },
     "execution_count": 27,
     "metadata": {},
     "output_type": "execute_result"
    },
    {
     "data": {
      "image/png": "[encoded data removed]",
      "text/plain": [
       "<matplotlib.figure.Figure at 0x7f624953ca10>"
      ]
     },
     "metadata": {},
     "output_type": "display_data"
    }
   ],
   "source": [
    "e = inv_y  - inv_yhat\n",
    "pyplot.plot(inv_y, color='red')\n",
    "\n",
    "pyplot.plot(inv_yhat, color='blue')\n"
   ]
  },
  {
   "cell_type": "code",
   "execution_count": 28,
   "metadata": {
    "collapsed": false
   },
   "outputs": [
    {
     "data": {
      "text/plain": [
       "[<matplotlib.lines.Line2D at 0x7f62487b3a10>]"
      ]
     },
     "execution_count": 28,
     "metadata": {},
     "output_type": "execute_result"
    },
    {
     "data": {
      "image/png": "[encoded data removed]",
      "text/plain": [
       "<matplotlib.figure.Figure at 0x7f624948b450>"
      ]
     },
     "metadata": {},
     "output_type": "display_data"
    }
   ],
   "source": [
    "pyplot.plot(e, color='blue')"
   ]
  },
  {
   "cell_type": "code",
   "execution_count": 29,
   "metadata": {
    "collapsed": false
   },
   "outputs": [
    {
     "name": "stdout",
     "output_type": "stream",
     "text": [
      "(-0.011973401073143123, 0.23900520185782)\n"
     ]
    }
   ],
   "source": [
    "from scipy.stats import norm\n",
    "\n",
    "parameters = norm.fit(e)\n",
    "print(parameters[0], parameters[1])\n",
    "\n"
   ]
  },
  {
   "cell_type": "code",
   "execution_count": 30,
   "metadata": {
    "collapsed": false
   },
   "outputs": [
    {
     "data": {
      "text/plain": [
       "array([ 0.41749347,  0.2828227 , -0.84905234, ...,  0.8422704 ,\n",
       "       -0.42561327,  0.6594275 ])"
      ]
     },
     "execution_count": 30,
     "metadata": {},
     "output_type": "execute_result"
    }
   ],
   "source": [
    "# make a prediction\n",
    "Val_set_X = test_set1_X\n",
    "vhat = model.predict(Val_set_X)\n",
    "Val_set_X = Val_set_X.reshape((Val_set_X.shape[0], n_hours*n_features))\n",
    "inv_vhat = np.concatenate((vhat, Val_set_X[:, -1:]), axis=1)\n",
    "inv_vhat = scaler.inverse_transform(inv_vhat)\n",
    "inv_vhat = inv_vhat[:,0]\n",
    "Val_y = test_set1_y\n",
    "# invert scaling for actual\n",
    "Val_y = Val_y.reshape((len(Val_y), 1))\n",
    "inv_v = np.concatenate((Val_y, Val_set_X[:, -1:]), axis=1)\n",
    "inv_v = scaler.inverse_transform(inv_v)\n",
    "inv_v = inv_v[:,0]\n",
    "x = inv_v  - inv_vhat\n",
    "\n",
    "x"
   ]
  },
  {
   "cell_type": "code",
   "execution_count": 31,
   "metadata": {
    "collapsed": false
   },
   "outputs": [
    {
     "data": {
      "text/plain": [
       "[<matplotlib.lines.Line2D at 0x7f6247878650>]"
      ]
     },
     "execution_count": 31,
     "metadata": {},
     "output_type": "execute_result"
    },
    {
     "data": {
      "image/png": "[encoded data removed]",
      "text/plain": [
       "<matplotlib.figure.Figure at 0x7f6248701f10>"
      ]
     },
     "metadata": {},
     "output_type": "display_data"
    }
   ],
   "source": [
    "pyplot.plot(x, color='green')"
   ]
  },
  {
   "cell_type": "code",
   "execution_count": 37,
   "metadata": {
    "collapsed": false
   },
   "outputs": [
    {
     "data": {
      "image/png": "[encoded data removed]",
      "text/plain": [
       "<matplotlib.figure.Figure at 0x7f624754cfd0>"
      ]
     },
     "metadata": {},
     "output_type": "display_data"
    }
   ],
   "source": [
    "fitted_pdf = norm.pdf(x,loc = parameters[0],scale = parameters[1])\n",
    "normal_pdf = norm.pdf(x)\n",
    "plt.plot(fitted_pdf,\"red\",linestyle=\"dashed\", linewidth=0.5)\n",
    "#plt.plot(inv_v,\"blue\",linestyle=\"dashed\", linewidth=0.5)\n",
    "#plt.plot(inv_vhat,\"yellow\",linestyle=\"dashed\", linewidth=0.5)\n",
    "#plt.plot(scaled,\"green\",linestyle=\"dashed\", linewidth=0.5)\n",
    "#plt.plot(e,\"red\",linestyle=\"dashed\", linewidth=0.5)\n",
    "plt.plot(normal_pdf,\"green\",linestyle=\"dashed\", linewidth=0.5)\n",
    "# insert a legend in the plot (using label)\n",
    "plt.legend()\n",
    "\n",
    "# we finally show our work\n",
    "plt.show()"
   ]
  },
  {
   "cell_type": "code",
   "execution_count": null,
   "metadata": {
    "collapsed": true
   },
   "outputs": [],
   "source": []
  },
  {
   "cell_type": "code",
   "execution_count": null,
   "metadata": {
    "collapsed": true
   },
   "outputs": [],
   "source": []
  },
  {
   "cell_type": "code",
   "execution_count": null,
   "metadata": {
    "collapsed": true
   },
   "outputs": [],
   "source": [
    "'''Evaluate the model'''\n",
    "loss = model.evaluate(test_X, test_y, verbose=2)\n",
    "#print( 'MSE: %f' % loss)\n",
    "loss"
   ]
  },
  {
   "cell_type": "code",
   "execution_count": null,
   "metadata": {
    "collapsed": false
   },
   "outputs": [],
   "source": [
    "'''Predictions'''\n",
    "\n",
    "for i in range(len(train_X)):\n",
    "    train_y_pred = model.predict(train_X)\n",
    "    print( 'expected: %f' % train_y)\n",
    "    print( 'predicted: %f' % train_y_pred)\n",
    "    \n",
    " \n",
    "#predictions1 = model.predict(test_X)"
   ]
  },
  {
   "cell_type": "code",
   "execution_count": 16,
   "metadata": {
    "collapsed": false
   },
   "outputs": [
    {
     "data": {
      "text/plain": [
       "[<matplotlib.lines.Line2D at 0x7f97bc886350>]"
      ]
     },
     "execution_count": 16,
     "metadata": {},
     "output_type": "execute_result"
    },
    {
     "data": {
      "image/png": "[encoded data removed]",
      "text/plain": [
       "<matplotlib.figure.Figure at 0x7f97bce5c890>"
      ]
     },
     "metadata": {},
     "output_type": "display_data"
    }
   ],
   "source": [
    "\n",
    "'''predictor Error'''\n",
    "pyplot.plot(history.history['mean_squared_error'])\n",
    "#errors = train_y - predictions\n",
    "\n",
    "#print(errors)"
   ]
  },
  {
   "cell_type": "code",
   "execution_count": null,
   "metadata": {
    "collapsed": false
   },
   "outputs": [],
   "source": [
    "\n",
    "\n",
    "'''Plot history'''\n",
    "\n",
    "#pyplot.plot(errors)\n",
    "\n",
    "#pyplot.plot(history.history['loss'], label='train')\n",
    "#pyplot.plot(history.history['val_loss'], label='test')"
   ]
  },
  {
   "cell_type": "code",
   "execution_count": 26,
   "metadata": {
    "collapsed": false
   },
   "outputs": [
    {
     "name": "stdout",
     "output_type": "stream",
     "text": [
      "Train on 15840 samples, validate on 2920 samples\n",
      "Epoch 1/10\n",
      "0s - loss: 0.0087 - mean_squared_error: 0.0087 - mean_absolute_error: 0.0354 - val_loss: 0.0037 - val_mean_squared_error: 0.0037 - val_mean_absolute_error: 0.0280\n",
      "Epoch 2/10\n",
      "0s - loss: 0.0074 - mean_squared_error: 0.0074 - mean_absolute_error: 0.0297 - val_loss: 0.0034 - val_mean_squared_error: 0.0034 - val_mean_absolute_error: 0.0215\n",
      "Epoch 3/10\n",
      "0s - loss: 0.0073 - mean_squared_error: 0.0073 - mean_absolute_error: 0.0281 - val_loss: 0.0034 - val_mean_squared_error: 0.0034 - val_mean_absolute_error: 0.0200\n",
      "Epoch 4/10\n",
      "0s - loss: 0.0073 - mean_squared_error: 0.0073 - mean_absolute_error: 0.0280 - val_loss: 0.0034 - val_mean_squared_error: 0.0034 - val_mean_absolute_error: 0.0196\n",
      "Epoch 5/10\n",
      "0s - loss: 0.0073 - mean_squared_error: 0.0073 - mean_absolute_error: 0.0279 - val_loss: 0.0034 - val_mean_squared_error: 0.0034 - val_mean_absolute_error: 0.0194\n",
      "Epoch 6/10\n",
      "0s - loss: 0.0073 - mean_squared_error: 0.0073 - mean_absolute_error: 0.0279 - val_loss: 0.0034 - val_mean_squared_error: 0.0034 - val_mean_absolute_error: 0.0193\n",
      "Epoch 7/10\n",
      "0s - loss: 0.0073 - mean_squared_error: 0.0073 - mean_absolute_error: 0.0278 - val_loss: 0.0034 - val_mean_squared_error: 0.0034 - val_mean_absolute_error: 0.0192\n",
      "Epoch 8/10\n",
      "0s - loss: 0.0073 - mean_squared_error: 0.0073 - mean_absolute_error: 0.0278 - val_loss: 0.0034 - val_mean_squared_error: 0.0034 - val_mean_absolute_error: 0.0191\n",
      "Epoch 9/10\n",
      "0s - loss: 0.0073 - mean_squared_error: 0.0073 - mean_absolute_error: 0.0278 - val_loss: 0.0034 - val_mean_squared_error: 0.0034 - val_mean_absolute_error: 0.0191\n",
      "Epoch 10/10\n",
      "0s - loss: 0.0073 - mean_squared_error: 0.0073 - mean_absolute_error: 0.0277 - val_loss: 0.0034 - val_mean_squared_error: 0.0034 - val_mean_absolute_error: 0.0191\n"
     ]
    },
    {
     "data": {
      "image/png": "[encoded data removed]",
      "text/plain": [
       "<matplotlib.figure.Figure at 0x7f2a054da4d0>"
      ]
     },
     "metadata": {},
     "output_type": "display_data"
    }
   ],
   "source": [
    "# design network\n",
    "model = Sequential()\n",
    "model.add(LSTM(60, input_shape=(train_X.shape[1], train_X.shape[2])))\n",
    "#model.add(LSTM(60, stateful=True, batch_input_shape=(1,train_X.shape[1], train_X.shape[2])))\n",
    "model.add(Dense(1))\n",
    "#model.compile(loss='mae', optimizer='adam')\n",
    "model.compile(loss='mse', optimizer='adam', metrics=['mean_squared_error', 'mean_absolute_error'])\n",
    "# fit network\n",
    "history = model.fit(train_X, train_y,batch_size=72, validation_data=(test_X, test_y), verbose=2, shuffle=False)\n",
    "# plot history\n",
    "pyplot.plot(history.history['loss'], label='train')\n",
    "pyplot.plot(history.history['val_loss'], label='test')\n",
    "#pyplot.plot(history.history['mean_squared_error'])\n",
    "#pyplot.plot(history.history['val_mean_absolute_error'])\n",
    "pyplot.legend()\n",
    "pyplot.show()"
   ]
  },
  {
   "cell_type": "code",
   "execution_count": 41,
   "metadata": {
    "collapsed": false
   },
   "outputs": [
    {
     "name": "stdout",
     "output_type": "stream",
     "text": [
      "____________________________________________________________________________________________________\n",
      "Layer (type)                     Output Shape          Param #     Connected to                     \n",
      "====================================================================================================\n",
      "lstm_2 (LSTM)                    (None, 60)            14880       lstm_input_2[0][0]               \n",
      "____________________________________________________________________________________________________\n",
      "dense_2 (Dense)                  (None, 1)             61          lstm_2[0][0]                     \n",
      "====================================================================================================\n",
      "Total params: 14941\n",
      "____________________________________________________________________________________________________\n",
      "None\n"
     ]
    }
   ],
   "source": [
    "print(model.summary())"
   ]
  },
  {
   "cell_type": "code",
   "execution_count": 42,
   "metadata": {
    "collapsed": false
   },
   "outputs": [
    {
     "name": "stdout",
     "output_type": "stream",
     "text": [
      "Test RMSE: 0.174\n"
     ]
    }
   ],
   "source": [
    "# make a prediction\n",
    "yhat = model.predict(test_X)\n",
    "test_X = test_X.reshape((test_X.shape[0], test_X.shape[2]))\n",
    "# invert scaling for forecast\n",
    "inv_yhat = np.concatenate((yhat, test_X[:, 1:]), axis=1)\n",
    "inv_yhat = scaler.inverse_transform(inv_yhat)\n",
    "inv_yhat = inv_yhat[:,0]\n",
    "# invert scaling for actual\n",
    "test_y = test_y.reshape((len(test_y), 1))\n",
    "inv_y = np.concatenate((test_y, test_X[:, 1:]), axis=1)\n",
    "inv_y = scaler.inverse_transform(inv_y)\n",
    "inv_y = inv_y[:,0]\n",
    "# calculate RMSE\n",
    "rmse = np.sqrt(mean_squared_error(inv_y, inv_yhat))\n",
    "print('Test RMSE: %.3f' % rmse)"
   ]
  },
  {
   "cell_type": "code",
   "execution_count": 18,
   "metadata": {
    "collapsed": false
   },
   "outputs": [
    {
     "data": {
      "text/plain": [
       "[array(79.16616105)]"
      ]
     },
     "execution_count": 18,
     "metadata": {},
     "output_type": "execute_result"
    }
   ],
   "source": [
    "def estimateGaussian(dataset):\n",
    "    mu = np.mean(dataset, axis=0)\n",
    "    sigma = np.cov(dataset.T)\n",
    "    return mu, sigma\n",
    "means, covs = list(),list()\n",
    "mean, cov = estimateGaussian(dataset)\n",
    "\n",
    "def multivariateGaussian(dataset,mu,sigma):\n",
    "    p = multivariate_normal(mean=mu, cov=sigma)\n",
    "    return p.pdf(dataset)\n",
    "\n",
    "def selectThresholdByCV(probs,gt):\n",
    "    best_epsilon = 0\n",
    "    best_f1 = 0\n",
    "    f = 0\n",
    "    stepsize = (max(probs) - min(probs)) / 1000;\n",
    "    epsilons = np.arange(min(probs),max(probs),stepsize)\n",
    "    for epsilon in np.nditer(epsilons):\n",
    "        predictions = (probs < epsilon)\n",
    "        f = f1_score(gt, predictions, average = \"binary\")\n",
    "        if f > best_f1:\n",
    "            best_f1 = f\n",
    "            best_epsilon = epsilon\n",
    "    return best_f1, best_epsilon"
   ]
  },
  {
   "cell_type": "code",
   "execution_count": 14,
   "metadata": {
    "collapsed": false
   },
   "outputs": [],
   "source": [
    "from torch.autograd import Variable\n",
    "import torch\n",
    "import numpy as np\n",
    "\n",
    "def fit_norm_distribution_param(args, model, train_dataset, channel_idx=0):\n",
    "    predictions = []\n",
    "    organized = []\n",
    "    errors = []\n",
    "    with torch.no_grad():\n",
    "        # Turn on evaluation mode which disables dropout.\n",
    "        model.eval()\n",
    "        pasthidden = model.init_hidden(1)\n",
    "        for t in range(len(train_dataset)):\n",
    "            out, hidden = model.forward(train_dataset[t].unsqueeze(0), pasthidden)\n",
    "            predictions.append([])\n",
    "            organized.append([])\n",
    "            errors.append([])\n",
    "            predictions[t].append(out.data.cpu()[0][0][channel_idx])\n",
    "            pasthidden = model.repackage_hidden(hidden)\n",
    "            for prediction_step in range(1,args.prediction_window_size):\n",
    "                out, hidden = model.forward(out, hidden)\n",
    "                predictions[t].append(out.data.cpu()[0][0][channel_idx])\n",
    "\n",
    "            if t >= args.prediction_window_size:\n",
    "                for step in range(args.prediction_window_size):\n",
    "                    organized[t].append(predictions[step+t-args.prediction_window_size][args.prediction_window_size-1-step])\n",
    "                organized[t]= torch.FloatTensor(organized[t]).to(args.device)\n",
    "                errors[t] = organized[t] - train_dataset[t][0][channel_idx]\n",
    "                errors[t] = errors[t].unsqueeze(0)\n",
    "\n",
    "    errors_tensor = torch.cat(errors[args.prediction_window_size:],dim=0)\n",
    "    mean = errors_tensor.mean(dim=0)\n",
    "    cov = errors_tensor.t().mm(errors_tensor)/errors_tensor.size(0) - mean.unsqueeze(1).mm(mean.unsqueeze(0))\n",
    "    # cov: positive-semidefinite and symmetric.\n",
    "    return mean, cov"
   ]
  },
  {
   "cell_type": "code",
   "execution_count": 16,
   "metadata": {
    "collapsed": false
   },
   "outputs": [
    {
     "ename": "NameError",
     "evalue": "name 'args' is not defined",
     "output_type": "error",
     "traceback": [
      "\u001b[1;31m---------------------------------------------------------------------------\u001b[0m",
      "\u001b[1;31mNameError\u001b[0m                                 Traceback (most recent call last)",
      "\u001b[1;32m<ipython-input-16-cbc2c0e05fa8>\u001b[0m in \u001b[0;36m<module>\u001b[1;34m()\u001b[0m\n\u001b[0;32m      1\u001b[0m \u001b[0mmeans\u001b[0m\u001b[1;33m,\u001b[0m \u001b[0mcovs\u001b[0m \u001b[1;33m=\u001b[0m \u001b[0mlist\u001b[0m\u001b[1;33m(\u001b[0m\u001b[1;33m)\u001b[0m\u001b[1;33m,\u001b[0m\u001b[0mlist\u001b[0m\u001b[1;33m(\u001b[0m\u001b[1;33m)\u001b[0m\u001b[1;33m\u001b[0m\u001b[0m\n\u001b[1;32m----> 2\u001b[1;33m \u001b[0mmean\u001b[0m\u001b[1;33m,\u001b[0m \u001b[0mcov\u001b[0m \u001b[1;33m=\u001b[0m \u001b[0mfit_norm_distribution_param\u001b[0m\u001b[1;33m(\u001b[0m\u001b[0margs\u001b[0m\u001b[1;33m,\u001b[0m \u001b[0mmodel\u001b[0m\u001b[1;33m,\u001b[0m \u001b[0mtrain_X\u001b[0m\u001b[1;33m,\u001b[0m \u001b[0mchannel_idx\u001b[0m\u001b[1;33m=\u001b[0m\u001b[1;36m0\u001b[0m\u001b[1;33m)\u001b[0m\u001b[1;33m\u001b[0m\u001b[0m\n\u001b[0m\u001b[0;32m      3\u001b[0m \u001b[0mmeans\u001b[0m\u001b[1;33m.\u001b[0m\u001b[0mappend\u001b[0m\u001b[1;33m(\u001b[0m\u001b[0mmean\u001b[0m\u001b[1;33m)\u001b[0m\u001b[1;33m,\u001b[0m \u001b[0mcovs\u001b[0m\u001b[1;33m.\u001b[0m\u001b[0mappend\u001b[0m\u001b[1;33m(\u001b[0m\u001b[0mcov\u001b[0m\u001b[1;33m)\u001b[0m\u001b[1;33m\u001b[0m\u001b[0m\n",
      "\u001b[1;31mNameError\u001b[0m: name 'args' is not defined"
     ]
    }
   ],
   "source": [
    "means, covs = list(),list()\n",
    "mean, cov = fit_norm_distribution_param(args, model, train_X, channel_idx=0)\n",
    "means.append(mean), covs.append(cov)"
   ]
  },
  {
   "cell_type": "code",
   "execution_count": null,
   "metadata": {
    "collapsed": true
   },
   "outputs": [],
   "source": []
  },
  {
   "cell_type": "code",
   "execution_count": null,
   "metadata": {
    "collapsed": true
   },
   "outputs": [],
   "source": []
  },
  {
   "cell_type": "code",
   "execution_count": null,
   "metadata": {
    "collapsed": true
   },
   "outputs": [],
   "source": []
  },
  {
   "cell_type": "code",
   "execution_count": 45,
   "metadata": {
    "collapsed": false
   },
   "outputs": [],
   "source": [
    "from pandas import Series\n",
    "series = Series.from_csv('orders11a.csv', header=0)\n",
    "series = Series(series)\n",
    "#print(series)\n"
   ]
  },
  {
   "cell_type": "code",
   "execution_count": null,
   "metadata": {
    "collapsed": true
   },
   "outputs": [],
   "source": []
  },
  {
   "cell_type": "code",
   "execution_count": null,
   "metadata": {
    "collapsed": true
   },
   "outputs": [],
   "source": []
  },
  {
   "cell_type": "code",
   "execution_count": 17,
   "metadata": {
    "collapsed": false
   },
   "outputs": [
    {
     "name": "stdout",
     "output_type": "stream",
     "text": [
      "<class 'pandas.core.series.Series'>\n",
      "States\n",
      "2312   2018-03-08 17:31:23\n",
      "3313   2018-03-08 17:31:24\n",
      "4314   2018-03-08 17:31:25\n",
      "5315   2018-03-08 17:31:26\n",
      "6316   2018-03-08 17:31:27\n",
      "Name: Timestamp, dtype: datetime64[ns]\n",
      "8627\n"
     ]
    }
   ],
   "source": [
    "from pandas import read_csv\n",
    "series = read_csv('orders11a.csv', header=0, parse_dates=[1], index_col=0, squeeze=True)\n",
    "print(type(series))\n",
    "print(series.head())\n",
    "print(series.size)"
   ]
  },
  {
   "cell_type": "code",
   "execution_count": 24,
   "metadata": {
    "collapsed": false
   },
   "outputs": [
    {
     "data": {
      "image/png": "[encoded data removed]",
      "text/plain": [
       "<matplotlib.figure.Figure at 0x7f642314c550>"
      ]
     },
     "metadata": {},
     "output_type": "display_data"
    }
   ],
   "source": [
    "from matplotlib import pyplot\n",
    "%matplotlib inline\n",
    "pyplot.plot(series)\n",
    "pyplot.show()"
   ]
  },
  {
   "cell_type": "code",
   "execution_count": 25,
   "metadata": {
    "collapsed": false
   },
   "outputs": [
    {
     "name": "stdout",
     "output_type": "stream",
     "text": [
      "(1, 10, 1)\n"
     ]
    }
   ],
   "source": [
    "from numpy import array\n",
    "data = array([0.1, 0.2, 0.3, 0.4, 0.5, 0.6, 0.7, 0.8, 0.9, 1.0])\n",
    "data = data.reshape((1, 10, 1))\n",
    "print(data.shape)"
   ]
  },
  {
   "cell_type": "code",
   "execution_count": 26,
   "metadata": {
    "collapsed": false
   },
   "outputs": [
    {
     "name": "stdout",
     "output_type": "stream",
     "text": [
      "(1, 10, 2)\n"
     ]
    }
   ],
   "source": [
    "from numpy import array\n",
    "data = array([\n",
    "\t[0.1, 1.0],\n",
    "\t[0.2, 0.9],\n",
    "\t[0.3, 0.8],\n",
    "\t[0.4, 0.7],\n",
    "\t[0.5, 0.6],\n",
    "\t[0.6, 0.5],\n",
    "\t[0.7, 0.4],\n",
    "\t[0.8, 0.3],\n",
    "\t[0.9, 0.2],\n",
    "\t[1.0, 0.1]])\n",
    "data = data.reshape(1, 10, 2)\n",
    "print(data.shape)\n",
    "\n"
   ]
  },
  {
   "cell_type": "code",
   "execution_count": 30,
   "metadata": {
    "collapsed": false
   },
   "outputs": [
    {
     "name": "stdout",
     "output_type": "stream",
     "text": [
      "0     10.0\n",
      "1     20.0\n",
      "2     30.0\n",
      "3     40.0\n",
      "4     50.0\n",
      "5     60.0\n",
      "6     70.0\n",
      "7     80.0\n",
      "8     90.0\n",
      "9    100.0\n",
      "dtype: float64\n",
      "[[ 0.        ]\n",
      " [ 0.11111111]\n",
      " [ 0.22222222]\n",
      " [ 0.33333333]\n",
      " [ 0.44444444]\n",
      " [ 0.55555556]\n",
      " [ 0.66666667]\n",
      " [ 0.77777778]\n",
      " [ 0.88888889]\n",
      " [ 1.        ]]\n",
      "[[  10.]\n",
      " [  20.]\n",
      " [  30.]\n",
      " [  40.]\n",
      " [  50.]\n",
      " [  60.]\n",
      " [  70.]\n",
      " [  80.]\n",
      " [  90.]\n",
      " [ 100.]]\n"
     ]
    }
   ],
   "source": [
    "# define contrived series\n",
    "data = [10.0, 20.0, 30.0, 40.0, 50.0, 60.0, 70.0, 80.0, 90.0, 100.0]\n",
    "series = Series(data)\n",
    "print(series)\n",
    "# prepare data for normalization\n",
    "values = series.values\n",
    "values = values.reshape((len(values), 1))\n",
    "# train the normalization\n",
    "scaler = MinMaxScaler(feature_range=(0, 1))\n",
    "scaler = scaler.fit(values)\n",
    "#print( ✬ Min: %f, Max: %f ✬ % (scaler.data_min_, scaler.data_max_))\n",
    "# normalize the dataset and print\n",
    "normalized = scaler.transform(values)\n",
    "print(normalized)\n",
    "# inverse transform and print\n",
    "inversed = scaler.inverse_transform(normalized)\n",
    "print(inversed)"
   ]
  },
  {
   "cell_type": "code",
   "execution_count": null,
   "metadata": {
    "collapsed": true
   },
   "outputs": [],
   "source": []
  }
 ],
 "metadata": {
  "kernelspec": {
   "display_name": "Python 2",
   "language": "python",
   "name": "python2"
  },
  "language_info": {
   "codemirror_mode": {
    "name": "ipython",
    "version": 2
   },
   "file_extension": ".py",
   "mimetype": "text/x-python",
   "name": "python",
   "nbconvert_exporter": "python",
   "pygments_lexer": "ipython2",
   "version": "2.7.13"
  }
 },
 "nbformat": 4,
 "nbformat_minor": 0
}
